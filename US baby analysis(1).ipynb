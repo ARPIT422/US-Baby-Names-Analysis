{
 "cells": [
  {
   "cell_type": "markdown",
   "metadata": {},
   "source": [
    "# US BABY NAMES 1880-2010 Analysis "
   ]
  },
  {
   "cell_type": "markdown",
   "metadata": {},
   "source": [
    "The United States Social Security Administration (SSA) has made available data on the frequency of baby names from 1880 through the present."
   ]
  },
  {
   "cell_type": "markdown",
   "metadata": {},
   "source": [
    "# Import necessary libraries\n"
   ]
  },
  {
   "cell_type": "code",
   "execution_count": 1,
   "metadata": {},
   "outputs": [],
   "source": [
    "import pandas as pd\n",
    "import numpy as np\n",
    "import matplotlib.pyplot as plt"
   ]
  },
  {
   "cell_type": "markdown",
   "metadata": {},
   "source": [
    "# Load the dataset"
   ]
  },
  {
   "cell_type": "markdown",
   "metadata": {},
   "source": [
    "The names of the baby is stored in different file yearly .Merge all the files into a single dataframe"
   ]
  },
  {
   "cell_type": "code",
   "execution_count": 2,
   "metadata": {},
   "outputs": [
    {
     "data": {
      "text/html": [
       "<div>\n",
       "<style scoped>\n",
       "    .dataframe tbody tr th:only-of-type {\n",
       "        vertical-align: middle;\n",
       "    }\n",
       "\n",
       "    .dataframe tbody tr th {\n",
       "        vertical-align: top;\n",
       "    }\n",
       "\n",
       "    .dataframe thead th {\n",
       "        text-align: right;\n",
       "    }\n",
       "</style>\n",
       "<table border=\"1\" class=\"dataframe\">\n",
       "  <thead>\n",
       "    <tr style=\"text-align: right;\">\n",
       "      <th></th>\n",
       "      <th>Name</th>\n",
       "      <th>Gender</th>\n",
       "      <th>Birth</th>\n",
       "      <th>year</th>\n",
       "    </tr>\n",
       "  </thead>\n",
       "  <tbody>\n",
       "    <tr>\n",
       "      <th>0</th>\n",
       "      <td>Mary</td>\n",
       "      <td>F</td>\n",
       "      <td>7065</td>\n",
       "      <td>1880</td>\n",
       "    </tr>\n",
       "    <tr>\n",
       "      <th>1</th>\n",
       "      <td>Anna</td>\n",
       "      <td>F</td>\n",
       "      <td>2604</td>\n",
       "      <td>1880</td>\n",
       "    </tr>\n",
       "    <tr>\n",
       "      <th>2</th>\n",
       "      <td>Emma</td>\n",
       "      <td>F</td>\n",
       "      <td>2003</td>\n",
       "      <td>1880</td>\n",
       "    </tr>\n",
       "    <tr>\n",
       "      <th>3</th>\n",
       "      <td>Elizabeth</td>\n",
       "      <td>F</td>\n",
       "      <td>1939</td>\n",
       "      <td>1880</td>\n",
       "    </tr>\n",
       "    <tr>\n",
       "      <th>4</th>\n",
       "      <td>Minnie</td>\n",
       "      <td>F</td>\n",
       "      <td>1746</td>\n",
       "      <td>1880</td>\n",
       "    </tr>\n",
       "    <tr>\n",
       "      <th>...</th>\n",
       "      <td>...</td>\n",
       "      <td>...</td>\n",
       "      <td>...</td>\n",
       "      <td>...</td>\n",
       "    </tr>\n",
       "    <tr>\n",
       "      <th>1692316</th>\n",
       "      <td>Zymaire</td>\n",
       "      <td>M</td>\n",
       "      <td>5</td>\n",
       "      <td>2010</td>\n",
       "    </tr>\n",
       "    <tr>\n",
       "      <th>1692317</th>\n",
       "      <td>Zyonne</td>\n",
       "      <td>M</td>\n",
       "      <td>5</td>\n",
       "      <td>2010</td>\n",
       "    </tr>\n",
       "    <tr>\n",
       "      <th>1692318</th>\n",
       "      <td>Zyquarius</td>\n",
       "      <td>M</td>\n",
       "      <td>5</td>\n",
       "      <td>2010</td>\n",
       "    </tr>\n",
       "    <tr>\n",
       "      <th>1692319</th>\n",
       "      <td>Zyran</td>\n",
       "      <td>M</td>\n",
       "      <td>5</td>\n",
       "      <td>2010</td>\n",
       "    </tr>\n",
       "    <tr>\n",
       "      <th>1692320</th>\n",
       "      <td>Zzyzx</td>\n",
       "      <td>M</td>\n",
       "      <td>5</td>\n",
       "      <td>2010</td>\n",
       "    </tr>\n",
       "  </tbody>\n",
       "</table>\n",
       "<p>1692321 rows × 4 columns</p>\n",
       "</div>"
      ],
      "text/plain": [
       "              Name Gender  Birth  year\n",
       "0             Mary      F   7065  1880\n",
       "1             Anna      F   2604  1880\n",
       "2             Emma      F   2003  1880\n",
       "3        Elizabeth      F   1939  1880\n",
       "4           Minnie      F   1746  1880\n",
       "...            ...    ...    ...   ...\n",
       "1692316    Zymaire      M      5  2010\n",
       "1692317     Zyonne      M      5  2010\n",
       "1692318  Zyquarius      M      5  2010\n",
       "1692319      Zyran      M      5  2010\n",
       "1692320      Zzyzx      M      5  2010\n",
       "\n",
       "[1692321 rows x 4 columns]"
      ]
     },
     "execution_count": 2,
     "metadata": {},
     "output_type": "execute_result"
    }
   ],
   "source": [
    "pieces=[]\n",
    "for years in range(1880,2011):\n",
    "    path=\"D:/names/yob%d.txt\" %years\n",
    "    names_data=pd.read_csv(path ,names=[\"Name\",\"Gender\",\"Birth\"])\n",
    "    names_data[\"year\"]=years \n",
    "    pieces.append(names_data)\n",
    "name=pd.concat(pieces,ignore_index=True)\n",
    "name."
   ]
  },
  {
   "cell_type": "markdown",
   "metadata": {},
   "source": [
    "Now we find the total Male and Female in each year and plot the graph"
   ]
  },
  {
   "cell_type": "code",
   "execution_count": 3,
   "metadata": {},
   "outputs": [
    {
     "data": {
      "text/plain": [
       "<AxesSubplot:xlabel='year'>"
      ]
     },
     "execution_count": 3,
     "metadata": {},
     "output_type": "execute_result"
    },
    {
     "data": {
      "image/png": "[encoded data removed]",
      "text/plain": [
       "<Figure size 432x288 with 1 Axes>"
      ]
     },
     "metadata": {
      "needs_background": "light"
     },
     "output_type": "display_data"
    }
   ],
   "source": [
    "total_birth=name[\"Birth\"].groupby([name[\"year\"],name[\"Gender\"]]).sum().unstack()\n",
    "total_birth.plot()"
   ]
  },
  {
   "cell_type": "code",
   "execution_count": 4,
   "metadata": {},
   "outputs": [],
   "source": [
    "#for (k1,k2),name in name.groupby([name[\"year\"],name[\"Gender\"]]):\n",
    " #   print((k1,k2))\n",
    "  #  print(name)"
   ]
  },
  {
   "cell_type": "markdown",
   "metadata": {},
   "source": [
    "# Add column prop\n"
   ]
  },
  {
   "cell_type": "markdown",
   "metadata": {},
   "source": [
    "This column contains the percentage of each baby name. For eg.: A prop value of 0.02 would indicate that 2 out of every 100 babies were given a particular name"
   ]
  },
  {
   "cell_type": "code",
   "execution_count": 5,
   "metadata": {},
   "outputs": [
    {
     "data": {
      "text/html": [
       "<div>\n",
       "<style scoped>\n",
       "    .dataframe tbody tr th:only-of-type {\n",
       "        vertical-align: middle;\n",
       "    }\n",
       "\n",
       "    .dataframe tbody tr th {\n",
       "        vertical-align: top;\n",
       "    }\n",
       "\n",
       "    .dataframe thead th {\n",
       "        text-align: right;\n",
       "    }\n",
       "</style>\n",
       "<table border=\"1\" class=\"dataframe\">\n",
       "  <thead>\n",
       "    <tr style=\"text-align: right;\">\n",
       "      <th></th>\n",
       "      <th>Name</th>\n",
       "      <th>Gender</th>\n",
       "      <th>Birth</th>\n",
       "      <th>year</th>\n",
       "      <th>prop</th>\n",
       "    </tr>\n",
       "  </thead>\n",
       "  <tbody>\n",
       "    <tr>\n",
       "      <th>0</th>\n",
       "      <td>Mary</td>\n",
       "      <td>F</td>\n",
       "      <td>7065</td>\n",
       "      <td>1880</td>\n",
       "      <td>0.077642</td>\n",
       "    </tr>\n",
       "    <tr>\n",
       "      <th>1</th>\n",
       "      <td>Anna</td>\n",
       "      <td>F</td>\n",
       "      <td>2604</td>\n",
       "      <td>1880</td>\n",
       "      <td>0.028617</td>\n",
       "    </tr>\n",
       "    <tr>\n",
       "      <th>2</th>\n",
       "      <td>Emma</td>\n",
       "      <td>F</td>\n",
       "      <td>2003</td>\n",
       "      <td>1880</td>\n",
       "      <td>0.022012</td>\n",
       "    </tr>\n",
       "    <tr>\n",
       "      <th>3</th>\n",
       "      <td>Elizabeth</td>\n",
       "      <td>F</td>\n",
       "      <td>1939</td>\n",
       "      <td>1880</td>\n",
       "      <td>0.021309</td>\n",
       "    </tr>\n",
       "    <tr>\n",
       "      <th>4</th>\n",
       "      <td>Minnie</td>\n",
       "      <td>F</td>\n",
       "      <td>1746</td>\n",
       "      <td>1880</td>\n",
       "      <td>0.019188</td>\n",
       "    </tr>\n",
       "  </tbody>\n",
       "</table>\n",
       "</div>"
      ],
      "text/plain": [
       "        Name Gender  Birth  year      prop\n",
       "0       Mary      F   7065  1880  0.077642\n",
       "1       Anna      F   2604  1880  0.028617\n",
       "2       Emma      F   2003  1880  0.022012\n",
       "3  Elizabeth      F   1939  1880  0.021309\n",
       "4     Minnie      F   1746  1880  0.019188"
      ]
     },
     "execution_count": 5,
     "metadata": {},
     "output_type": "execute_result"
    }
   ],
   "source": [
    "def add_prop(group):\n",
    "    group[\"prop\"]=group[\"Birth\"]/group[\"Birth\"].sum()\n",
    "    return group\n",
    "name=name.groupby([name[\"year\"],name[\"Gender\"]]).apply(add_prop)\n",
    "name.head()"
   ]
  },
  {
   "cell_type": "markdown",
   "metadata": {},
   "source": [
    "When performing a operation like this ,it's often valuable to do a sanity check, like verfying that prop column sums to 1 within all groups"
   ]
  },
  {
   "cell_type": "code",
   "execution_count": 6,
   "metadata": {},
   "outputs": [
    {
     "data": {
      "text/plain": [
       "year  Gender\n",
       "1880  F         1.0\n",
       "      M         1.0\n",
       "1881  F         1.0\n",
       "      M         1.0\n",
       "1882  F         1.0\n",
       "               ... \n",
       "2008  M         1.0\n",
       "2009  F         1.0\n",
       "      M         1.0\n",
       "2010  F         1.0\n",
       "      M         1.0\n",
       "Name: prop, Length: 262, dtype: float64"
      ]
     },
     "execution_count": 6,
     "metadata": {},
     "output_type": "execute_result"
    }
   ],
   "source": [
    "name[\"prop\"].groupby([name[\"year\"],name[\"Gender\"]]).sum()"
   ]
  },
  {
   "cell_type": "markdown",
   "metadata": {},
   "source": [
    "Now create a subset by selecting top 1000 names for each gender or year combibnation for further analysis"
   ]
  },
  {
   "cell_type": "code",
   "execution_count": 7,
   "metadata": {},
   "outputs": [
    {
     "data": {
      "text/html": [
       "<div>\n",
       "<style scoped>\n",
       "    .dataframe tbody tr th:only-of-type {\n",
       "        vertical-align: middle;\n",
       "    }\n",
       "\n",
       "    .dataframe tbody tr th {\n",
       "        vertical-align: top;\n",
       "    }\n",
       "\n",
       "    .dataframe thead th {\n",
       "        text-align: right;\n",
       "    }\n",
       "</style>\n",
       "<table border=\"1\" class=\"dataframe\">\n",
       "  <thead>\n",
       "    <tr style=\"text-align: right;\">\n",
       "      <th></th>\n",
       "      <th>Name</th>\n",
       "      <th>Gender</th>\n",
       "      <th>Birth</th>\n",
       "      <th>year</th>\n",
       "      <th>prop</th>\n",
       "    </tr>\n",
       "  </thead>\n",
       "  <tbody>\n",
       "    <tr>\n",
       "      <th>0</th>\n",
       "      <td>Mary</td>\n",
       "      <td>F</td>\n",
       "      <td>7065</td>\n",
       "      <td>1880</td>\n",
       "      <td>0.077642</td>\n",
       "    </tr>\n",
       "    <tr>\n",
       "      <th>1</th>\n",
       "      <td>Anna</td>\n",
       "      <td>F</td>\n",
       "      <td>2604</td>\n",
       "      <td>1880</td>\n",
       "      <td>0.028617</td>\n",
       "    </tr>\n",
       "    <tr>\n",
       "      <th>2</th>\n",
       "      <td>Emma</td>\n",
       "      <td>F</td>\n",
       "      <td>2003</td>\n",
       "      <td>1880</td>\n",
       "      <td>0.022012</td>\n",
       "    </tr>\n",
       "    <tr>\n",
       "      <th>3</th>\n",
       "      <td>Elizabeth</td>\n",
       "      <td>F</td>\n",
       "      <td>1939</td>\n",
       "      <td>1880</td>\n",
       "      <td>0.021309</td>\n",
       "    </tr>\n",
       "    <tr>\n",
       "      <th>4</th>\n",
       "      <td>Minnie</td>\n",
       "      <td>F</td>\n",
       "      <td>1746</td>\n",
       "      <td>1880</td>\n",
       "      <td>0.019188</td>\n",
       "    </tr>\n",
       "    <tr>\n",
       "      <th>...</th>\n",
       "      <td>...</td>\n",
       "      <td>...</td>\n",
       "      <td>...</td>\n",
       "      <td>...</td>\n",
       "      <td>...</td>\n",
       "    </tr>\n",
       "    <tr>\n",
       "      <th>261871</th>\n",
       "      <td>Bailey</td>\n",
       "      <td>M</td>\n",
       "      <td>196</td>\n",
       "      <td>2010</td>\n",
       "      <td>0.000102</td>\n",
       "    </tr>\n",
       "    <tr>\n",
       "      <th>261872</th>\n",
       "      <td>Destin</td>\n",
       "      <td>M</td>\n",
       "      <td>196</td>\n",
       "      <td>2010</td>\n",
       "      <td>0.000102</td>\n",
       "    </tr>\n",
       "    <tr>\n",
       "      <th>261873</th>\n",
       "      <td>Eliezer</td>\n",
       "      <td>M</td>\n",
       "      <td>196</td>\n",
       "      <td>2010</td>\n",
       "      <td>0.000102</td>\n",
       "    </tr>\n",
       "    <tr>\n",
       "      <th>261874</th>\n",
       "      <td>Enoch</td>\n",
       "      <td>M</td>\n",
       "      <td>196</td>\n",
       "      <td>2010</td>\n",
       "      <td>0.000102</td>\n",
       "    </tr>\n",
       "    <tr>\n",
       "      <th>261875</th>\n",
       "      <td>Joziah</td>\n",
       "      <td>M</td>\n",
       "      <td>196</td>\n",
       "      <td>2010</td>\n",
       "      <td>0.000102</td>\n",
       "    </tr>\n",
       "  </tbody>\n",
       "</table>\n",
       "<p>261876 rows × 5 columns</p>\n",
       "</div>"
      ],
      "text/plain": [
       "             Name Gender  Birth  year      prop\n",
       "0            Mary      F   7065  1880  0.077642\n",
       "1            Anna      F   2604  1880  0.028617\n",
       "2            Emma      F   2003  1880  0.022012\n",
       "3       Elizabeth      F   1939  1880  0.021309\n",
       "4          Minnie      F   1746  1880  0.019188\n",
       "...           ...    ...    ...   ...       ...\n",
       "261871     Bailey      M    196  2010  0.000102\n",
       "261872     Destin      M    196  2010  0.000102\n",
       "261873    Eliezer      M    196  2010  0.000102\n",
       "261874      Enoch      M    196  2010  0.000102\n",
       "261875     Joziah      M    196  2010  0.000102\n",
       "\n",
       "[261876 rows x 5 columns]"
      ]
     },
     "execution_count": 7,
     "metadata": {},
     "output_type": "execute_result"
    }
   ],
   "source": [
    "def order(group):\n",
    "    group=group.sort_values(by=\"prop\",ascending=False)[:1000]\n",
    "    return group\n",
    "top1000=name.groupby([name[\"year\"],name[\"Gender\"]]).apply(order)\n",
    "top1000.reset_index(inplace=True,drop=True)\n",
    "top1000"
   ]
  },
  {
   "cell_type": "markdown",
   "metadata": {},
   "source": [
    "# Analysing Naming Trends"
   ]
  },
  {
   "cell_type": "markdown",
   "metadata": {},
   "source": [
    "Split the dataset of top1000 babies names in boys and girl"
   ]
  },
  {
   "cell_type": "code",
   "execution_count": 8,
   "metadata": {},
   "outputs": [],
   "source": [
    "boys=top1000[top1000[\"Gender\"]==\"M\"]\n",
    "girls=top1000[top1000[\"Gender\"]==\"F\"]"
   ]
  },
  {
   "cell_type": "code",
   "execution_count": 9,
   "metadata": {},
   "outputs": [
    {
     "data": {
      "text/plain": [
       "Name     year\n",
       "Aaden    2008     957\n",
       "         2009    1267\n",
       "         2010     450\n",
       "Aaliyah  1994    1451\n",
       "         1995    1255\n",
       "                 ... \n",
       "Zula     1931      59\n",
       "         1932      50\n",
       "         1933      58\n",
       "         1935      51\n",
       "Zuri     2010     259\n",
       "Name: Birth, Length: 247842, dtype: int64"
      ]
     },
     "execution_count": 9,
     "metadata": {},
     "output_type": "execute_result"
    }
   ],
   "source": [
    "total_birth=top1000[\"Birth\"].groupby([top1000[\"Name\"],top1000[\"year\"]]).sum()\n",
    "total_birth                                      "
   ]
  },
  {
   "cell_type": "code",
   "execution_count": 10,
   "metadata": {},
   "outputs": [
    {
     "data": {
      "text/plain": [
       "array([<AxesSubplot:xlabel='Name,year'>], dtype=object)"
      ]
     },
     "execution_count": 10,
     "metadata": {},
     "output_type": "execute_result"
    },
    {
     "data": {
      "image/png": "[encoded data removed]",
      "text/plain": [
       "<Figure size 864x720 with 1 Axes>"
      ]
     },
     "metadata": {
      "needs_background": "light"
     },
     "output_type": "display_data"
    }
   ],
   "source": [
    "subset=total_birth[[\"John\",\"Harry\",\"Marry\",\"Marilyn\"]]\n",
    "subset.plot(subplots=True ,figsize=(12,10),grid=False,title=\"No. of birth per year\")"
   ]
  },
  {
   "cell_type": "markdown",
   "metadata": {},
   "source": [
    "On looking at the above graph ,we might conclude that these names have grown out of favour with the american population "
   ]
  },
  {
   "cell_type": "markdown",
   "metadata": {},
   "source": [
    "\n",
    "# Measuring the name diversity\n"
   ]
  },
  {
   "cell_type": "markdown",
   "metadata": {},
   "source": [
    "One measure is the proportion of births represented by the top1000 most popular names,which is aggregated and plot by year and gender"
   ]
  },
  {
   "cell_type": "code",
   "execution_count": 11,
   "metadata": {},
   "outputs": [
    {
     "data": {
      "text/plain": [
       "<AxesSubplot:title={'center':'Sum of table1000.prop by year and Gender'}, xlabel='year'>"
      ]
     },
     "execution_count": 11,
     "metadata": {},
     "output_type": "execute_result"
    },
    {
     "data": {
      "image/png": "[encoded data removed]",
      "text/plain": [
       "<Figure size 432x288 with 1 Axes>"
      ]
     },
     "metadata": {
      "needs_background": "light"
     },
     "output_type": "display_data"
    }
   ],
   "source": [
    "table=top1000.pivot_table(\"prop\",index=\"year\",columns=\"Gender\",aggfunc=sum)\n",
    "table.plot(title=\"Sum of table1000.prop by year and Gender\")"
   ]
  },
  {
   "cell_type": "markdown",
   "metadata": {},
   "source": [
    "Now to create a subset of boys from the year 2010"
   ]
  },
  {
   "cell_type": "code",
   "execution_count": 12,
   "metadata": {},
   "outputs": [
    {
     "data": {
      "text/html": [
       "<div>\n",
       "<style scoped>\n",
       "    .dataframe tbody tr th:only-of-type {\n",
       "        vertical-align: middle;\n",
       "    }\n",
       "\n",
       "    .dataframe tbody tr th {\n",
       "        vertical-align: top;\n",
       "    }\n",
       "\n",
       "    .dataframe thead th {\n",
       "        text-align: right;\n",
       "    }\n",
       "</style>\n",
       "<table border=\"1\" class=\"dataframe\">\n",
       "  <thead>\n",
       "    <tr style=\"text-align: right;\">\n",
       "      <th></th>\n",
       "      <th>Name</th>\n",
       "      <th>Gender</th>\n",
       "      <th>Birth</th>\n",
       "      <th>year</th>\n",
       "      <th>prop</th>\n",
       "    </tr>\n",
       "  </thead>\n",
       "  <tbody>\n",
       "    <tr>\n",
       "      <th>260876</th>\n",
       "      <td>Jacob</td>\n",
       "      <td>M</td>\n",
       "      <td>22139</td>\n",
       "      <td>2010</td>\n",
       "      <td>0.011548</td>\n",
       "    </tr>\n",
       "    <tr>\n",
       "      <th>260877</th>\n",
       "      <td>Ethan</td>\n",
       "      <td>M</td>\n",
       "      <td>18006</td>\n",
       "      <td>2010</td>\n",
       "      <td>0.009392</td>\n",
       "    </tr>\n",
       "    <tr>\n",
       "      <th>260878</th>\n",
       "      <td>Michael</td>\n",
       "      <td>M</td>\n",
       "      <td>17361</td>\n",
       "      <td>2010</td>\n",
       "      <td>0.009056</td>\n",
       "    </tr>\n",
       "    <tr>\n",
       "      <th>260879</th>\n",
       "      <td>Jayden</td>\n",
       "      <td>M</td>\n",
       "      <td>17189</td>\n",
       "      <td>2010</td>\n",
       "      <td>0.008966</td>\n",
       "    </tr>\n",
       "    <tr>\n",
       "      <th>260880</th>\n",
       "      <td>William</td>\n",
       "      <td>M</td>\n",
       "      <td>17058</td>\n",
       "      <td>2010</td>\n",
       "      <td>0.008897</td>\n",
       "    </tr>\n",
       "  </tbody>\n",
       "</table>\n",
       "</div>"
      ],
      "text/plain": [
       "           Name Gender  Birth  year      prop\n",
       "260876    Jacob      M  22139  2010  0.011548\n",
       "260877    Ethan      M  18006  2010  0.009392\n",
       "260878  Michael      M  17361  2010  0.009056\n",
       "260879   Jayden      M  17189  2010  0.008966\n",
       "260880  William      M  17058  2010  0.008897"
      ]
     },
     "execution_count": 12,
     "metadata": {},
     "output_type": "execute_result"
    }
   ],
   "source": [
    "boys2000=boys[boys[\"year\"]==2010]\n",
    "boys2000.head()"
   ]
  },
  {
   "cell_type": "markdown",
   "metadata": {},
   "source": [
    "Now sort the dataset into the descending order by prop column and then taken the cummulative of prop and then calling the method searchsorted return the postion in the cumulative sum at which 0.5 would need to be inserted to keep it in sorted order  "
   ]
  },
  {
   "cell_type": "code",
   "execution_count": 13,
   "metadata": {},
   "outputs": [
    {
     "data": {
      "text/plain": [
       "116"
      ]
     },
     "execution_count": 13,
     "metadata": {},
     "output_type": "execute_result"
    }
   ],
   "source": [
    "prop_cumsum_2010=boys2000[\"prop\"].sort_values(ascending=False).cumsum()\n",
    "prop_cumsum_2010.values.searchsorted(0.5)"
   ]
  },
  {
   "cell_type": "markdown",
   "metadata": {},
   "source": [
    "Since arrays are-zero indexed,adding 1 to this result gives you a result of 117.In contrast ,in 1900 this number was much smaller"
   ]
  },
  {
   "cell_type": "code",
   "execution_count": 14,
   "metadata": {},
   "outputs": [
    {
     "data": {
      "text/html": [
       "<div>\n",
       "<style scoped>\n",
       "    .dataframe tbody tr th:only-of-type {\n",
       "        vertical-align: middle;\n",
       "    }\n",
       "\n",
       "    .dataframe tbody tr th {\n",
       "        vertical-align: top;\n",
       "    }\n",
       "\n",
       "    .dataframe thead th {\n",
       "        text-align: right;\n",
       "    }\n",
       "</style>\n",
       "<table border=\"1\" class=\"dataframe\">\n",
       "  <thead>\n",
       "    <tr style=\"text-align: right;\">\n",
       "      <th></th>\n",
       "      <th>Name</th>\n",
       "      <th>Gender</th>\n",
       "      <th>Birth</th>\n",
       "      <th>year</th>\n",
       "      <th>prop</th>\n",
       "    </tr>\n",
       "  </thead>\n",
       "  <tbody>\n",
       "    <tr>\n",
       "      <th>40876</th>\n",
       "      <td>John</td>\n",
       "      <td>M</td>\n",
       "      <td>9829</td>\n",
       "      <td>1900</td>\n",
       "      <td>0.065319</td>\n",
       "    </tr>\n",
       "    <tr>\n",
       "      <th>40877</th>\n",
       "      <td>William</td>\n",
       "      <td>M</td>\n",
       "      <td>8579</td>\n",
       "      <td>1900</td>\n",
       "      <td>0.057012</td>\n",
       "    </tr>\n",
       "    <tr>\n",
       "      <th>40878</th>\n",
       "      <td>James</td>\n",
       "      <td>M</td>\n",
       "      <td>7245</td>\n",
       "      <td>1900</td>\n",
       "      <td>0.048147</td>\n",
       "    </tr>\n",
       "    <tr>\n",
       "      <th>40879</th>\n",
       "      <td>George</td>\n",
       "      <td>M</td>\n",
       "      <td>5403</td>\n",
       "      <td>1900</td>\n",
       "      <td>0.035906</td>\n",
       "    </tr>\n",
       "    <tr>\n",
       "      <th>40880</th>\n",
       "      <td>Charles</td>\n",
       "      <td>M</td>\n",
       "      <td>4098</td>\n",
       "      <td>1900</td>\n",
       "      <td>0.027233</td>\n",
       "    </tr>\n",
       "  </tbody>\n",
       "</table>\n",
       "</div>"
      ],
      "text/plain": [
       "          Name Gender  Birth  year      prop\n",
       "40876     John      M   9829  1900  0.065319\n",
       "40877  William      M   8579  1900  0.057012\n",
       "40878    James      M   7245  1900  0.048147\n",
       "40879   George      M   5403  1900  0.035906\n",
       "40880  Charles      M   4098  1900  0.027233"
      ]
     },
     "execution_count": 14,
     "metadata": {},
     "output_type": "execute_result"
    }
   ],
   "source": [
    "boys1900=boys[boys[\"year\"]==1900]\n",
    "boys1900.head()"
   ]
  },
  {
   "cell_type": "code",
   "execution_count": 15,
   "metadata": {},
   "outputs": [
    {
     "data": {
      "text/plain": [
       "25"
      ]
     },
     "execution_count": 15,
     "metadata": {},
     "output_type": "execute_result"
    }
   ],
   "source": [
    "prop_cumsum_1900=boys1900[\"prop\"].sort_values(ascending=False).cumsum()\n",
    "(prop_cumsum_1900.searchsorted(0.5))+1"
   ]
  },
  {
   "cell_type": "markdown",
   "metadata": {},
   "source": [
    "Now you can apply this operation to each year/gender combination ,groupby those fields and apply a function returning the count for each group\n"
   ]
  },
  {
   "cell_type": "code",
   "execution_count": 16,
   "metadata": {},
   "outputs": [
    {
     "data": {
      "text/html": [
       "<div>\n",
       "<style scoped>\n",
       "    .dataframe tbody tr th:only-of-type {\n",
       "        vertical-align: middle;\n",
       "    }\n",
       "\n",
       "    .dataframe tbody tr th {\n",
       "        vertical-align: top;\n",
       "    }\n",
       "\n",
       "    .dataframe thead th {\n",
       "        text-align: right;\n",
       "    }\n",
       "</style>\n",
       "<table border=\"1\" class=\"dataframe\">\n",
       "  <thead>\n",
       "    <tr style=\"text-align: right;\">\n",
       "      <th>Gender</th>\n",
       "      <th>F</th>\n",
       "      <th>M</th>\n",
       "    </tr>\n",
       "    <tr>\n",
       "      <th>year</th>\n",
       "      <th></th>\n",
       "      <th></th>\n",
       "    </tr>\n",
       "  </thead>\n",
       "  <tbody>\n",
       "    <tr>\n",
       "      <th>1880</th>\n",
       "      <td>38</td>\n",
       "      <td>14</td>\n",
       "    </tr>\n",
       "    <tr>\n",
       "      <th>1881</th>\n",
       "      <td>38</td>\n",
       "      <td>14</td>\n",
       "    </tr>\n",
       "    <tr>\n",
       "      <th>1882</th>\n",
       "      <td>38</td>\n",
       "      <td>15</td>\n",
       "    </tr>\n",
       "    <tr>\n",
       "      <th>1883</th>\n",
       "      <td>39</td>\n",
       "      <td>15</td>\n",
       "    </tr>\n",
       "    <tr>\n",
       "      <th>1884</th>\n",
       "      <td>39</td>\n",
       "      <td>16</td>\n",
       "    </tr>\n",
       "  </tbody>\n",
       "</table>\n",
       "</div>"
      ],
      "text/plain": [
       "Gender   F   M\n",
       "year          \n",
       "1880    38  14\n",
       "1881    38  14\n",
       "1882    38  15\n",
       "1883    39  15\n",
       "1884    39  16"
      ]
     },
     "execution_count": 16,
     "metadata": {},
     "output_type": "execute_result"
    }
   ],
   "source": [
    "def prop_cum(group):\n",
    "    group=group[\"prop\"].sort_values(ascending=False).cumsum()\n",
    "    return (group.searchsorted(0.5)+1)\n",
    "prop_cum_sum=top1000.groupby([top1000[\"year\"],top1000[\"Gender\"]]).apply(prop_cum)\n",
    "prop_cum_sum=prop_cum_sum.unstack(\"Gender\")\n",
    "prop_cum_sum.head()"
   ]
  },
  {
   "cell_type": "code",
   "execution_count": 17,
   "metadata": {},
   "outputs": [
    {
     "data": {
      "text/plain": [
       "<AxesSubplot:title={'center':'No. of Popular names in top 50%'}, xlabel='year'>"
      ]
     },
     "execution_count": 17,
     "metadata": {},
     "output_type": "execute_result"
    },
    {
     "data": {
      "image/png": "[encoded data removed]",
      "text/plain": [
       "<Figure size 432x288 with 1 Axes>"
      ]
     },
     "metadata": {
      "needs_background": "light"
     },
     "output_type": "display_data"
    }
   ],
   "source": [
    "prop_cum_sum.plot(title=\"No. of Popular names in top 50%\")"
   ]
  },
  {
   "cell_type": "markdown",
   "metadata": {},
   "source": [
    "# The \"last letter\" revolution"
   ]
  },
  {
   "cell_type": "markdown",
   "metadata": {},
   "source": [
    "In 2007 ,baby name researcher laura Watternberg pointed out on her website that the distribution of boys names by final letters has changed significantly over the last 100 years.\"To see this ,we first aggregate all of the births in the full dataset by year,sex and final letters"
   ]
  },
  {
   "cell_type": "code",
   "execution_count": 23,
   "metadata": {},
   "outputs": [],
   "source": [
    "get_last_letter = lambda x:x[-1]\n",
    "last_letter = name[\"Name\"].map(get_last_letter)\n",
    "last_letter.name=\"last_letter\" "
   ]
  },
  {
   "cell_type": "code",
   "execution_count": 24,
   "metadata": {},
   "outputs": [],
   "source": [
    "table=name.pivot_table(\"Birth\",index=last_letter,columns=[\"Gender\",\"year\"],aggfunc=sum)"
   ]
  },
  {
   "cell_type": "markdown",
   "metadata": {},
   "source": [
    "Then we select our three representative year spanning the history and print the first few rows"
   ]
  },
  {
   "cell_type": "code",
   "execution_count": 25,
   "metadata": {},
   "outputs": [
    {
     "data": {
      "text/html": [
       "<div>\n",
       "<style scoped>\n",
       "    .dataframe tbody tr th:only-of-type {\n",
       "        vertical-align: middle;\n",
       "    }\n",
       "\n",
       "    .dataframe tbody tr th {\n",
       "        vertical-align: top;\n",
       "    }\n",
       "\n",
       "    .dataframe thead tr th {\n",
       "        text-align: left;\n",
       "    }\n",
       "\n",
       "    .dataframe thead tr:last-of-type th {\n",
       "        text-align: right;\n",
       "    }\n",
       "</style>\n",
       "<table border=\"1\" class=\"dataframe\">\n",
       "  <thead>\n",
       "    <tr>\n",
       "      <th>Gender</th>\n",
       "      <th colspan=\"3\" halign=\"left\">F</th>\n",
       "      <th colspan=\"3\" halign=\"left\">M</th>\n",
       "    </tr>\n",
       "    <tr>\n",
       "      <th>year</th>\n",
       "      <th>1910</th>\n",
       "      <th>1960</th>\n",
       "      <th>2010</th>\n",
       "      <th>1910</th>\n",
       "      <th>1960</th>\n",
       "      <th>2010</th>\n",
       "    </tr>\n",
       "    <tr>\n",
       "      <th>last_letter</th>\n",
       "      <th></th>\n",
       "      <th></th>\n",
       "      <th></th>\n",
       "      <th></th>\n",
       "      <th></th>\n",
       "      <th></th>\n",
       "    </tr>\n",
       "  </thead>\n",
       "  <tbody>\n",
       "    <tr>\n",
       "      <th>a</th>\n",
       "      <td>108399.0</td>\n",
       "      <td>691278.0</td>\n",
       "      <td>677100.0</td>\n",
       "      <td>977.0</td>\n",
       "      <td>5212.0</td>\n",
       "      <td>28882.0</td>\n",
       "    </tr>\n",
       "    <tr>\n",
       "      <th>b</th>\n",
       "      <td>NaN</td>\n",
       "      <td>694.0</td>\n",
       "      <td>455.0</td>\n",
       "      <td>411.0</td>\n",
       "      <td>3911.0</td>\n",
       "      <td>39294.0</td>\n",
       "    </tr>\n",
       "    <tr>\n",
       "      <th>c</th>\n",
       "      <td>5.0</td>\n",
       "      <td>49.0</td>\n",
       "      <td>957.0</td>\n",
       "      <td>482.0</td>\n",
       "      <td>15457.0</td>\n",
       "      <td>23357.0</td>\n",
       "    </tr>\n",
       "    <tr>\n",
       "      <th>d</th>\n",
       "      <td>6751.0</td>\n",
       "      <td>3731.0</td>\n",
       "      <td>2645.0</td>\n",
       "      <td>22113.0</td>\n",
       "      <td>262120.0</td>\n",
       "      <td>44851.0</td>\n",
       "    </tr>\n",
       "    <tr>\n",
       "      <th>e</th>\n",
       "      <td>133601.0</td>\n",
       "      <td>435023.0</td>\n",
       "      <td>316878.0</td>\n",
       "      <td>28665.0</td>\n",
       "      <td>178760.0</td>\n",
       "      <td>130307.0</td>\n",
       "    </tr>\n",
       "  </tbody>\n",
       "</table>\n",
       "</div>"
      ],
      "text/plain": [
       "Gender              F                            M                    \n",
       "year             1910      1960      2010     1910      1960      2010\n",
       "last_letter                                                           \n",
       "a            108399.0  691278.0  677100.0    977.0    5212.0   28882.0\n",
       "b                 NaN     694.0     455.0    411.0    3911.0   39294.0\n",
       "c                 5.0      49.0     957.0    482.0   15457.0   23357.0\n",
       "d              6751.0    3731.0    2645.0  22113.0  262120.0   44851.0\n",
       "e            133601.0  435023.0  316878.0  28665.0  178760.0  130307.0"
      ]
     },
     "execution_count": 25,
     "metadata": {},
     "output_type": "execute_result"
    }
   ],
   "source": [
    "subtable=table.reindex(columns=[1910,1960,2010],level=\"year\")\n",
    "subtable.head()"
   ]
  },
  {
   "cell_type": "markdown",
   "metadata": {},
   "source": [
    "Now normalize the table by total birh to compute a new table containing proportion of total birth for each gender ending in each letter"
   ]
  },
  {
   "cell_type": "code",
   "execution_count": 27,
   "metadata": {},
   "outputs": [
    {
     "data": {
      "text/plain": [
       "Gender  year\n",
       "F       1910     396505.0\n",
       "        1960    2022012.0\n",
       "        2010    1775986.0\n",
       "M       1910     194210.0\n",
       "        1960    2132115.0\n",
       "        2010    1917177.0\n",
       "dtype: float64"
      ]
     },
     "execution_count": 27,
     "metadata": {},
     "output_type": "execute_result"
    }
   ],
   "source": [
    "subtable.sum()"
   ]
  },
  {
   "cell_type": "code",
   "execution_count": 33,
   "metadata": {},
   "outputs": [
    {
     "data": {
      "text/html": [
       "<div>\n",
       "<style scoped>\n",
       "    .dataframe tbody tr th:only-of-type {\n",
       "        vertical-align: middle;\n",
       "    }\n",
       "\n",
       "    .dataframe tbody tr th {\n",
       "        vertical-align: top;\n",
       "    }\n",
       "\n",
       "    .dataframe thead tr th {\n",
       "        text-align: left;\n",
       "    }\n",
       "\n",
       "    .dataframe thead tr:last-of-type th {\n",
       "        text-align: right;\n",
       "    }\n",
       "</style>\n",
       "<table border=\"1\" class=\"dataframe\">\n",
       "  <thead>\n",
       "    <tr>\n",
       "      <th>Gender</th>\n",
       "      <th colspan=\"3\" halign=\"left\">F</th>\n",
       "      <th colspan=\"3\" halign=\"left\">M</th>\n",
       "    </tr>\n",
       "    <tr>\n",
       "      <th>year</th>\n",
       "      <th>1910</th>\n",
       "      <th>1960</th>\n",
       "      <th>2010</th>\n",
       "      <th>1910</th>\n",
       "      <th>1960</th>\n",
       "      <th>2010</th>\n",
       "    </tr>\n",
       "    <tr>\n",
       "      <th>last_letter</th>\n",
       "      <th></th>\n",
       "      <th></th>\n",
       "      <th></th>\n",
       "      <th></th>\n",
       "      <th></th>\n",
       "      <th></th>\n",
       "    </tr>\n",
       "  </thead>\n",
       "  <tbody>\n",
       "    <tr>\n",
       "      <th>v</th>\n",
       "      <td>NaN</td>\n",
       "      <td>0.000060</td>\n",
       "      <td>0.000117</td>\n",
       "      <td>0.000113</td>\n",
       "      <td>0.000036</td>\n",
       "      <td>0.001451</td>\n",
       "    </tr>\n",
       "    <tr>\n",
       "      <th>w</th>\n",
       "      <td>0.000020</td>\n",
       "      <td>0.000031</td>\n",
       "      <td>0.001190</td>\n",
       "      <td>0.006323</td>\n",
       "      <td>0.007708</td>\n",
       "      <td>0.016183</td>\n",
       "    </tr>\n",
       "    <tr>\n",
       "      <th>x</th>\n",
       "      <td>0.000015</td>\n",
       "      <td>0.000037</td>\n",
       "      <td>0.000730</td>\n",
       "      <td>0.003965</td>\n",
       "      <td>0.001851</td>\n",
       "      <td>0.008599</td>\n",
       "    </tr>\n",
       "    <tr>\n",
       "      <th>y</th>\n",
       "      <td>0.110975</td>\n",
       "      <td>0.152555</td>\n",
       "      <td>0.116760</td>\n",
       "      <td>0.077344</td>\n",
       "      <td>0.160993</td>\n",
       "      <td>0.058201</td>\n",
       "    </tr>\n",
       "    <tr>\n",
       "      <th>z</th>\n",
       "      <td>0.002436</td>\n",
       "      <td>0.000658</td>\n",
       "      <td>0.000700</td>\n",
       "      <td>0.000170</td>\n",
       "      <td>0.000184</td>\n",
       "      <td>0.001829</td>\n",
       "    </tr>\n",
       "  </tbody>\n",
       "</table>\n",
       "</div>"
      ],
      "text/plain": [
       "Gender              F                             M                    \n",
       "year             1910      1960      2010      1910      1960      2010\n",
       "last_letter                                                            \n",
       "v                 NaN  0.000060  0.000117  0.000113  0.000036  0.001451\n",
       "w            0.000020  0.000031  0.001190  0.006323  0.007708  0.016183\n",
       "x            0.000015  0.000037  0.000730  0.003965  0.001851  0.008599\n",
       "y            0.110975  0.152555  0.116760  0.077344  0.160993  0.058201\n",
       "z            0.002436  0.000658  0.000700  0.000170  0.000184  0.001829"
      ]
     },
     "execution_count": 33,
     "metadata": {},
     "output_type": "execute_result"
    }
   ],
   "source": [
    "letter_prop=subtable/subtable.sum()\n",
    "letter_prop.tail()"
   ]
  },
  {
   "cell_type": "markdown",
   "metadata": {},
   "source": [
    "With the letters proportion in hand,we can make bar plots for each gender broken down by year "
   ]
  },
  {
   "cell_type": "code",
   "execution_count": 32,
   "metadata": {},
   "outputs": [
    {
     "data": {
      "text/plain": [
       "<AxesSubplot:title={'center':'Male'}, xlabel='last_letter'>"
      ]
     },
     "execution_count": 32,
     "metadata": {},
     "output_type": "execute_result"
    },
    {
     "data": {
      "image/png": "[encoded data removed]",
      "text/plain": [
       "<Figure size 720x576 with 2 Axes>"
      ]
     },
     "metadata": {
      "needs_background": "light"
     },
     "output_type": "display_data"
    }
   ],
   "source": [
    "fig,axes=plt.subplots(2,1,figsize=(10,8))\n",
    "letter_prop[\"M\"].plot(kind=\"bar\",rot=0,ax=axes[0],title=\"Male\")\n",
    "letter_prop[\"F\"].plot(kind=\"bar\",rot=0,ax=axes[1],title=\"Male\",legend=False)"
   ]
  },
  {
   "cell_type": "markdown",
   "metadata": {},
   "source": [
    "# Boy name that became girl name (and vis versa)"
   ]
  },
  {
   "cell_type": "markdown",
   "metadata": {},
   "source": [
    "Another fun trend is looking at the boy names that were more popular with one gender earlier in the sample but have \"changed gender\" in the present.For eg:- the name Lesley or lesLie.Going back to top1000 DataFrame,I compute a list of names occuring in the dataset starting with \"lesl\""
   ]
  },
  {
   "cell_type": "code",
   "execution_count": 19,
   "metadata": {},
   "outputs": [
    {
     "data": {
      "text/html": [
       "<div>\n",
       "<style scoped>\n",
       "    .dataframe tbody tr th:only-of-type {\n",
       "        vertical-align: middle;\n",
       "    }\n",
       "\n",
       "    .dataframe tbody tr th {\n",
       "        vertical-align: top;\n",
       "    }\n",
       "\n",
       "    .dataframe thead th {\n",
       "        text-align: right;\n",
       "    }\n",
       "</style>\n",
       "<table border=\"1\" class=\"dataframe\">\n",
       "  <thead>\n",
       "    <tr style=\"text-align: right;\">\n",
       "      <th></th>\n",
       "      <th>Name</th>\n",
       "      <th>Gender</th>\n",
       "      <th>Birth</th>\n",
       "      <th>year</th>\n",
       "      <th>prop</th>\n",
       "    </tr>\n",
       "  </thead>\n",
       "  <tbody>\n",
       "    <tr>\n",
       "      <th>632</th>\n",
       "      <td>Leslie</td>\n",
       "      <td>F</td>\n",
       "      <td>8</td>\n",
       "      <td>1880</td>\n",
       "      <td>0.000088</td>\n",
       "    </tr>\n",
       "    <tr>\n",
       "      <th>1108</th>\n",
       "      <td>Leslie</td>\n",
       "      <td>M</td>\n",
       "      <td>79</td>\n",
       "      <td>1880</td>\n",
       "      <td>0.000715</td>\n",
       "    </tr>\n",
       "    <tr>\n",
       "      <th>2461</th>\n",
       "      <td>Leslie</td>\n",
       "      <td>F</td>\n",
       "      <td>11</td>\n",
       "      <td>1881</td>\n",
       "      <td>0.000120</td>\n",
       "    </tr>\n",
       "    <tr>\n",
       "      <th>3014</th>\n",
       "      <td>Leslie</td>\n",
       "      <td>M</td>\n",
       "      <td>92</td>\n",
       "      <td>1881</td>\n",
       "      <td>0.000913</td>\n",
       "    </tr>\n",
       "    <tr>\n",
       "      <th>4511</th>\n",
       "      <td>Leslie</td>\n",
       "      <td>F</td>\n",
       "      <td>9</td>\n",
       "      <td>1882</td>\n",
       "      <td>0.000083</td>\n",
       "    </tr>\n",
       "    <tr>\n",
       "      <th>...</th>\n",
       "      <td>...</td>\n",
       "      <td>...</td>\n",
       "      <td>...</td>\n",
       "      <td>...</td>\n",
       "      <td>...</td>\n",
       "    </tr>\n",
       "    <tr>\n",
       "      <th>256326</th>\n",
       "      <td>Lesly</td>\n",
       "      <td>F</td>\n",
       "      <td>699</td>\n",
       "      <td>2008</td>\n",
       "      <td>0.000370</td>\n",
       "    </tr>\n",
       "    <tr>\n",
       "      <th>258035</th>\n",
       "      <td>Leslie</td>\n",
       "      <td>F</td>\n",
       "      <td>1982</td>\n",
       "      <td>2009</td>\n",
       "      <td>0.001080</td>\n",
       "    </tr>\n",
       "    <tr>\n",
       "      <th>258380</th>\n",
       "      <td>Lesly</td>\n",
       "      <td>F</td>\n",
       "      <td>598</td>\n",
       "      <td>2009</td>\n",
       "      <td>0.000326</td>\n",
       "    </tr>\n",
       "    <tr>\n",
       "      <th>260074</th>\n",
       "      <td>Leslie</td>\n",
       "      <td>F</td>\n",
       "      <td>1565</td>\n",
       "      <td>2010</td>\n",
       "      <td>0.000881</td>\n",
       "    </tr>\n",
       "    <tr>\n",
       "      <th>260456</th>\n",
       "      <td>Lesly</td>\n",
       "      <td>F</td>\n",
       "      <td>505</td>\n",
       "      <td>2010</td>\n",
       "      <td>0.000284</td>\n",
       "    </tr>\n",
       "  </tbody>\n",
       "</table>\n",
       "<p>400 rows × 5 columns</p>\n",
       "</div>"
      ],
      "text/plain": [
       "          Name Gender  Birth  year      prop\n",
       "632     Leslie      F      8  1880  0.000088\n",
       "1108    Leslie      M     79  1880  0.000715\n",
       "2461    Leslie      F     11  1881  0.000120\n",
       "3014    Leslie      M     92  1881  0.000913\n",
       "4511    Leslie      F      9  1882  0.000083\n",
       "...        ...    ...    ...   ...       ...\n",
       "256326   Lesly      F    699  2008  0.000370\n",
       "258035  Leslie      F   1982  2009  0.001080\n",
       "258380   Lesly      F    598  2009  0.000326\n",
       "260074  Leslie      F   1565  2010  0.000881\n",
       "260456   Lesly      F    505  2010  0.000284\n",
       "\n",
       "[400 rows x 5 columns]"
      ]
     },
     "execution_count": 19,
     "metadata": {},
     "output_type": "execute_result"
    }
   ],
   "source": [
    "name_start_with_lesl=top1000[top1000[\"Name\"].str.lower().str.contains(\"lesl\")]\n",
    "name_start_with_lesl"
   ]
  },
  {
   "cell_type": "markdown",
   "metadata": {},
   "source": [
    "Now group the dataset by name and sum the birth to find the relative frequencies.\n"
   ]
  },
  {
   "cell_type": "code",
   "execution_count": 20,
   "metadata": {},
   "outputs": [
    {
     "data": {
      "text/plain": [
       "Name\n",
       "Leslee      1082\n",
       "Lesley     35037\n",
       "Lesli        929\n",
       "Leslie    370579\n",
       "Lesly      10072\n",
       "Name: Birth, dtype: int64"
      ]
     },
     "execution_count": 20,
     "metadata": {},
     "output_type": "execute_result"
    }
   ],
   "source": [
    "relative_frequency_of_lesl = name_start_with_lesl[\"Birth\"].groupby(name_start_with_lesl[\"Name\"]).sum()\n",
    "relative_frequency_of_lesl"
   ]
  },
  {
   "cell_type": "markdown",
   "metadata": {},
   "source": [
    "Now aggregate by Gender and year and normalize within year"
   ]
  },
  {
   "cell_type": "code",
   "execution_count": 21,
   "metadata": {},
   "outputs": [
    {
     "data": {
      "text/html": [
       "<div>\n",
       "<style scoped>\n",
       "    .dataframe tbody tr th:only-of-type {\n",
       "        vertical-align: middle;\n",
       "    }\n",
       "\n",
       "    .dataframe tbody tr th {\n",
       "        vertical-align: top;\n",
       "    }\n",
       "\n",
       "    .dataframe thead th {\n",
       "        text-align: right;\n",
       "    }\n",
       "</style>\n",
       "<table border=\"1\" class=\"dataframe\">\n",
       "  <thead>\n",
       "    <tr style=\"text-align: right;\">\n",
       "      <th>Gender</th>\n",
       "      <th>F</th>\n",
       "      <th>M</th>\n",
       "    </tr>\n",
       "    <tr>\n",
       "      <th>year</th>\n",
       "      <th></th>\n",
       "      <th></th>\n",
       "    </tr>\n",
       "  </thead>\n",
       "  <tbody>\n",
       "    <tr>\n",
       "      <th>2006</th>\n",
       "      <td>1.0</td>\n",
       "      <td>NaN</td>\n",
       "    </tr>\n",
       "    <tr>\n",
       "      <th>2007</th>\n",
       "      <td>1.0</td>\n",
       "      <td>NaN</td>\n",
       "    </tr>\n",
       "    <tr>\n",
       "      <th>2008</th>\n",
       "      <td>1.0</td>\n",
       "      <td>NaN</td>\n",
       "    </tr>\n",
       "    <tr>\n",
       "      <th>2009</th>\n",
       "      <td>1.0</td>\n",
       "      <td>NaN</td>\n",
       "    </tr>\n",
       "    <tr>\n",
       "      <th>2010</th>\n",
       "      <td>1.0</td>\n",
       "      <td>NaN</td>\n",
       "    </tr>\n",
       "  </tbody>\n",
       "</table>\n",
       "</div>"
      ],
      "text/plain": [
       "Gender    F   M\n",
       "year           \n",
       "2006    1.0 NaN\n",
       "2007    1.0 NaN\n",
       "2008    1.0 NaN\n",
       "2009    1.0 NaN\n",
       "2010    1.0 NaN"
      ]
     },
     "execution_count": 21,
     "metadata": {},
     "output_type": "execute_result"
    }
   ],
   "source": [
    "table=name_start_with_lesl.pivot_table(\"Birth\",index=\"year\",columns=\"Gender\",aggfunc=sum)\n",
    "table=table.div(table.sum(1),axis=0)\n",
    "table.tail()"
   ]
  },
  {
   "cell_type": "markdown",
   "metadata": {},
   "source": [
    "Now its time to plot the breakdown by gender aover time "
   ]
  },
  {
   "cell_type": "code",
   "execution_count": 22,
   "metadata": {},
   "outputs": [
    {
     "data": {
      "text/plain": [
       "<AxesSubplot:xlabel='year'>"
      ]
     },
     "execution_count": 22,
     "metadata": {},
     "output_type": "execute_result"
    },
    {
     "data": {
      "image/png": "[encoded data removed]",
      "text/plain": [
       "<Figure size 432x288 with 1 Axes>"
      ]
     },
     "metadata": {
      "needs_background": "light"
     },
     "output_type": "display_data"
    }
   ],
   "source": [
    "table.plot(style={\"M\":\"k-\",\"F\":\"k--\"})"
   ]
  },
  {
   "cell_type": "code",
   "execution_count": null,
   "metadata": {},
   "outputs": [],
   "source": []
  }
 ],
 "metadata": {
  "kernelspec": {
   "display_name": "Python 3",
   "language": "python",
   "name": "python3"
  },
  "language_info": {
   "codemirror_mode": {
    "name": "ipython",
    "version": 3
   },
   "file_extension": ".py",
   "mimetype": "text/x-python",
   "name": "python",
   "nbconvert_exporter": "python",
   "pygments_lexer": "ipython3",
   "version": "3.8.5"
  }
 },
 "nbformat": 4,
 "nbformat_minor": 4
}
